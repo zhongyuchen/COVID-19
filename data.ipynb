{
 "cells": [
  {
   "cell_type": "code",
   "execution_count": null,
   "metadata": {},
   "outputs": [],
   "source": [
    "import numpy as np\n",
    "a=np.ones((4,5))\n",
    "a.shape\n",
    "b=[a,a*2,a]\n",
    "b=np.array(b)\n",
    "b.shape\n",
    "b=b.reshape((4,5 ,3))\n",
    "b.shape\n",
    "print(b)"
   ]
  },
  {
   "cell_type": "code",
   "execution_count": null,
   "metadata": {},
   "outputs": [],
   "source": [
    "import nibabel as nib\n",
    "from nibabel.viewers import OrthoSlicer3D\n",
    "from matplotlib import pyplot as plt\n",
    "import numpy as np\n",
    "img=nib.load('./COVID-19-CT-Seg/COVID-19-CT-Seg_20cases/coronacases_001.nii.gz')\n",
    "# img=img.get_fdata()\n",
    "# img=np.squeeze(img)\n",
    "print(img.shape)\n",
    "# OrthoSlicer3D(img.dataobj).show()\n",
    "plt.figure(1)\n",
    "plt.imshow(img.dataobj[:, :, 150])\n",
    "print(np.max(img.dataobj))\n",
    "print(np.min(img.dataobj))\n",
    "plt.figure(2)\n",
    "img_max = np.max(img.dataobj)\n",
    "img_min = np.min(img.dataobj)\n",
    "img_gray = (img.dataobj[:, :, 150] - img_min) / (img_max - img_min)\n",
    "plt.imshow(img_gray)"
   ]
  },
  {
   "cell_type": "code",
   "execution_count": null,
   "metadata": {
    "scrolled": true
   },
   "outputs": [],
   "source": [
    "import os\n",
    "data_path = './COVID-19-CT-Seg/COVID-19-CT-Seg_20cases'\n",
    "filenames = os.listdir(data_path)\n",
    "filenames = sorted(filenames)\n",
    "for i, filename in enumerate(filenames):\n",
    "    if filename.endswith('.gz'):\n",
    "        img=nib.load(os.path.join(data_path, filename))\n",
    "#         plt.figure(i)\n",
    "#         plt.imshow(img.dataobj[:, :, 10])\n",
    "        print((np.shape(img.dataobj), np.min(img.dataobj), np.max(img.dataobj)))\n",
    "    \n"
   ]
  },
  {
   "cell_type": "code",
   "execution_count": null,
   "metadata": {
    "scrolled": true
   },
   "outputs": [],
   "source": [
    "import os\n",
    "data_path = './COVID-19-CT-Seg/COVID-19-CT-Seg_20cases'\n",
    "filenames = os.listdir(data_path)\n",
    "filenames = sorted(filenames)\n",
    "for i, filename in enumerate(filenames):\n",
    "    if filename.endswith('.gz'):\n",
    "        img=nib.load(os.path.join(data_path, filename))\n",
    "        plt.figure(i)\n",
    "        plt.imshow(img.dataobj[:, :, 10])\n",
    "#         print(np.shape(img.dataobj))"
   ]
  },
  {
   "cell_type": "code",
   "execution_count": null,
   "metadata": {},
   "outputs": [],
   "source": [
    "import os\n",
    "data_path = './COVID-19-CT-Seg/COVID-19-CT-Seg_20cases'\n",
    "filenames = os.listdir(data_path)\n",
    "filenames = sorted(filenames)\n",
    "for i, filename in enumerate(filenames):\n",
    "    if filename.endswith('.gz') and i < 10:\n",
    "        img=nib.load(os.path.join(data_path, filename))\n",
    "        plt.figure(i)\n",
    "        plt.imshow(img.dataobj[:, :, 150])"
   ]
  },
  {
   "cell_type": "code",
   "execution_count": null,
   "metadata": {},
   "outputs": [],
   "source": [
    "filenames[-1]"
   ]
  },
  {
   "cell_type": "code",
   "execution_count": null,
   "metadata": {},
   "outputs": [],
   "source": [
    "img=nib.load(os.path.join(data_path, 'radiopaedia_7_85703_0.nii.gz'))\n",
    "plt.figure(1)\n",
    "plt.imshow(img.dataobj[:, :, 10])\n",
    "print(img.dataobj[0:10, 0:10, 10])\n",
    "print(img.dataobj[150:160, 150:160, 10])\n",
    "print(np.median(img.dataobj[:, :, 10]))\n",
    "print(np.mean(img.dataobj[:, :, 10]))\n",
    "plt.figure(2)\n",
    "img_change = img.dataobj[:, :, 10] + (img.dataobj[:, :, 10] == 0) * np.median(img.dataobj[:, :, 10])\n",
    "plt.imshow(img_change)\n",
    "plt.figure(3)\n",
    "img_change = img.dataobj[:, :, 10] + (img.dataobj[:, :, 10] == 0) * np.mean(img.dataobj[:, :, 10])\n",
    "plt.imshow(img_change)"
   ]
  },
  {
   "cell_type": "code",
   "execution_count": null,
   "metadata": {},
   "outputs": [],
   "source": [
    "import os\n",
    "from PIL import Image\n",
    "data_path = './data/COVID'\n",
    "filenames = os.listdir(data_path)\n",
    "filenames = sorted(filenames)\n",
    "size_min = 255\n",
    "for i, filename in enumerate(filenames):\n",
    "    img=Image.open(os.path.join(data_path, filename))\n",
    "    img_arr = np.array(img)\n",
    "    img=img.convert(\"L\")\n",
    "    img=np.array(img)\n",
    "    print((np.shape(img), np.min(img), np.max(img)))\n",
    "    size_min = min(size_min, min(np.shape(img)))\n",
    "print(size_min)"
   ]
  },
  {
   "cell_type": "code",
   "execution_count": null,
   "metadata": {},
   "outputs": [],
   "source": [
    "a = [1,0,2]\n",
    "import random\n",
    "random.shuffle(a)\n",
    "a"
   ]
  },
  {
   "cell_type": "code",
   "execution_count": null,
   "metadata": {},
   "outputs": [],
   "source": [
    "import os\n",
    "from PIL import Image\n",
    "data_path = '../COVID-CT/Images-processed/CT_COVID'\n",
    "img=Image.open(os.path.join(data_path, '2020.01.24.919183-p27-132.png'))\n",
    "img=img.convert(\"RGB\")\n",
    "img=img.resize((224, 224))\n",
    "img=np.array(img)\n",
    "print((np.shape(img), np.min(img), np.max(img)))\n",
    "plt.imshow(img)"
   ]
  },
  {
   "cell_type": "code",
   "execution_count": null,
   "metadata": {},
   "outputs": [],
   "source": [
    "import cv2\n",
    "import numpy as np\n",
    "from matplotlib import pyplot as plt\n",
    "\n",
    "img = cv2.imread(\"./data/COVID/Covid (1007).png\")\n",
    "# img=Image.open(\"./data/COVID/Covid (1007).png\")\n",
    "gray = cv2.cvtColor(img, cv2.COLOR_BGR2GRAY)\n",
    "# img=img.convert(\"L\")\n",
    "plt.figure(1)\n",
    "plt.imshow(gray)\n",
    "\n",
    "h, w = img.shape[:2]\n",
    "pixelSequence = gray.reshape([h * w, ])\n",
    "numberBins = 256\n",
    "plt.figure(2)\n",
    "histogram, bins, patch = plt.hist(pixelSequence, numberBins,\n",
    "                                  facecolor='black', histtype='bar')\n",
    "\n",
    "dst = cv2.equalizeHist(gray)\n",
    "plt.figure(3)\n",
    "plt.imshow(dst)\n",
    "\n",
    "h, w = dst.shape[:2]\n",
    "pixelSequence = dst.reshape([h * w, ])\n",
    "numberBins = 256\n",
    "plt.figure(4)\n",
    "histogram, bins, patch = plt.hist(pixelSequence, numberBins,\n",
    "                                  facecolor='black', histtype='bar')\n",
    "\n",
    "dst = cv2.resize(dst, (64, 64))\n",
    "np.array(dst)\n"
   ]
  },
  {
   "cell_type": "code",
   "execution_count": null,
   "metadata": {},
   "outputs": [],
   "source": [
    "img = cv2.imread(\"./data/COVID/Covid (1007).png\")\n",
    "img = cv2.cvtColor(img, cv2.COLOR_BGR2GRAY)\n",
    "# 图像归一化\n",
    "fi = img / 255.0\n",
    "# 伽马变换\n",
    "gamma = 0.5\n",
    "out = np.power(fi, gamma)\n",
    "plt.figure(1)\n",
    "plt.imshow(img)\n",
    "plt.figure(2)\n",
    "plt.imshow(out)\n"
   ]
  },
  {
   "cell_type": "code",
   "execution_count": null,
   "metadata": {},
   "outputs": [],
   "source": [
    "\n",
    "img = cv2.imread(\"./data/COVID/Covid (1007).png\")\n",
    "img = cv2.cvtColor(img, cv2.COLOR_BGR2GRAY)\n",
    "# 计算原图中出现的最小灰度级和最大灰度级\n",
    "# 使用函数计算\n",
    "# Imin, Imax = cv2.minMaxLoc(img)[:2]\n",
    "# 使用numpy计算\n",
    "Imax = np.max(img)\n",
    "Imin = np.min(img)\n",
    "Omin, Omax = 0, 255\n",
    "# 计算a和b的值\n",
    "a = float(Omax - Omin) / (Imax - Imin)\n",
    "b = Omin - a * Imin\n",
    "out = a * img + b\n",
    "out = out.astype(np.uint8)\n",
    "plt.figure(1)\n",
    "plt.imshow(img)\n",
    "\n",
    "h, w = img.shape[:2]\n",
    "pixelSequence = img.reshape([h * w, ])\n",
    "numberBins = 256\n",
    "plt.figure(2)\n",
    "histogram, bins, patch = plt.hist(pixelSequence, numberBins,\n",
    "                                  facecolor='black', histtype='bar')\n",
    "\n",
    "plt.figure(3)\n",
    "plt.imshow(out)\n",
    "\n",
    "h, w = out.shape[:2]\n",
    "pixelSequence = out.reshape([h * w, ])\n",
    "numberBins = 256\n",
    "plt.figure(4)\n",
    "histogram, bins, patch = plt.hist(pixelSequence, numberBins,\n",
    "                                  facecolor='black', histtype='bar')"
   ]
  },
  {
   "cell_type": "code",
   "execution_count": null,
   "metadata": {},
   "outputs": [],
   "source": []
  }
 ],
 "metadata": {
  "kernelspec": {
   "display_name": "Python 3",
   "language": "python",
   "name": "python3"
  },
  "language_info": {
   "codemirror_mode": {
    "name": "ipython",
    "version": 3
   },
   "file_extension": ".py",
   "mimetype": "text/x-python",
   "name": "python",
   "nbconvert_exporter": "python",
   "pygments_lexer": "ipython3",
   "version": "3.6.8"
  }
 },
 "nbformat": 4,
 "nbformat_minor": 4
}
